{
 "cells": [
  {
   "cell_type": "markdown",
   "id": "7f016c5d-59ca-448b-bf88-a90d78570926",
   "metadata": {},
   "source": [
    "# Partie III : Amélioration des modèles\n",
    "## Arbre de Decision et KNN\n",
    "#### .Pour améliorer notre modèle nous avons nettoyé notre dataset en supprimant les doublons,au début nous avions 1000 lignes de données, après le nettoyage du dataset,il nous reste alors 302 lignes ce qui a pu amélioré nos modèles.\n",
    "#### .Pour ameliorer les modeles pour qu'ils puissent detecter efficacement les positions presque gagnE et presque perdu, on a besoin d'augmenter le volume des donnees \n",
    "  \n"
   ]
  },
  {
   "cell_type": "code",
   "execution_count": null,
   "id": "e551b36d-03af-4a81-a1ca-ab1f3181ce33",
   "metadata": {},
   "outputs": [],
   "source": []
  }
 ],
 "metadata": {
  "kernelspec": {
   "display_name": "Python 3 (ipykernel)",
   "language": "python",
   "name": "python3"
  },
  "language_info": {
   "codemirror_mode": {
    "name": "ipython",
    "version": 3
   },
   "file_extension": ".py",
   "mimetype": "text/x-python",
   "name": "python",
   "nbconvert_exporter": "python",
   "pygments_lexer": "ipython3",
   "version": "3.12.4"
  }
 },
 "nbformat": 4,
 "nbformat_minor": 5
}
